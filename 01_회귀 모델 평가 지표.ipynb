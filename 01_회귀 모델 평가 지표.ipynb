{
 "cells": [
  {
   "cell_type": "code",
   "execution_count": null,
   "id": "dac6116b",
   "metadata": {},
   "outputs": [],
   "source": [
    "# !pip install IPython\n",
    "from IPython.display import display, HTML, Image"
   ]
  },
  {
   "cell_type": "code",
   "execution_count": null,
   "id": "d1d02f6b-2dd9-4df9-bfdf-a0f25d5c0d9c",
   "metadata": {},
   "outputs": [],
   "source": [
    "!git clone https://github.com/Seung-hwanSong/Metric.git #코랩 사용"
   ]
  },
  {
   "cell_type": "code",
   "execution_count": null,
   "id": "b6ac08a5",
   "metadata": {},
   "outputs": [],
   "source": [
    "Image('/content/Metric/image/intro0.png')"
   ]
  },
  {
   "cell_type": "markdown",
   "id": "a6772379",
   "metadata": {},
   "source": [
    "# [모델 평가]\n",
    "## 회귀 모델 평가 지표"
   ]
  },
  {
   "cell_type": "markdown",
   "id": "09c703c2",
   "metadata": {},
   "source": [
    "##### jupyter notebook 단축키\n",
    "\n",
    "- ctrl+enter: 셀 실행   \n",
    "- shift+enter: 셀 실행 및 다음 셀 이동   \n",
    "- alt+enter: 셀 실행, 다음 셀 이동, 새로운 셀 생성\n",
    "- a: 상단에 새로운 셀 만들기\n",
    "- b: 하단에 새로운 셀 만들기\n",
    "- dd: 셀 삭제(x: 셀 삭제)\n",
    "- 함수 ( ) 안에서 shift+tab: arguments description. shift+tab+tab은 길게 볼 수 있도록"
   ]
  },
  {
   "cell_type": "markdown",
   "id": "b731dc12",
   "metadata": {},
   "source": [
    "## 1. 모듈 불러오기"
   ]
  },
  {
   "cell_type": "code",
   "execution_count": null,
   "id": "f0e9f787",
   "metadata": {},
   "outputs": [],
   "source": [
    "''' 데이터 전처리 패키지 '''\n",
    "import numpy as np\n",
    "import pandas as pd\n",
    "\n",
    "''' 기계학습 모델 구축 및 평가 패키지 '''\n",
    "import statsmodels.api as sm\n",
    "\n",
    "from sklearn.datasets import load_boston\n",
    "from sklearn.metrics import mean_squared_error, r2_score, mean_absolute_error\n",
    "\n",
    "''' 데이터 시각화 패키지 '''\n",
    "import seaborn as sns\n",
    "import matplotlib.pyplot as plt\n",
    "import matplotlib.font_manager as fm\n",
    "\n",
    "''' 경고 숨기기 '''\n",
    "import warnings\n",
    "warnings.filterwarnings(action='ignore')\n",
    "\n",
    "''' 한글 폰트 설정 '''\n",
    "plt.rc('font', family='Malgun Gothic')"
   ]
  },
  {
   "cell_type": "markdown",
   "id": "63b2bdfb",
   "metadata": {},
   "source": [
    "## 2. 데이터 불러오기: Boston Housing Data\n",
    "\n",
    "#### https://archive.ics.uci.edu/ml/datasets.php\n",
    "\n",
    "#### 데이터 구조  \n",
    "- 데이터: 1978년 보스턴 주택 가격  \n",
    "- 관측치 개수: 506개\n",
    "- 변수 개수: 설명변수 13개 / 반응변수 1개\n",
    "\n",
    "#### 설명 변수(원인: 예측값을 설명할 수 있는 변수) -> \"X\"\n",
    "- CRIM: 범죄율  \n",
    "- INDUS: 비소매상업지역 면적 비율  \n",
    "- NOX: 일산화질소 농도  \n",
    "- RM: 주택당 방 수  \n",
    "- LSTAT: 인구 중 하위 계층 비율  \n",
    "- B: 인구 중 흑인 비율  \n",
    "- PTRATIO: 학생/교사 비율  \n",
    "- ZN: 25,000 평방피트를 초과 거주지역 비율  \n",
    "- CHAS: 찰스강의 경계에 위치한 경우는 1, 아니면 0  \n",
    "- AGE: 1940년 이전에 건축된 주택의 비율  \n",
    "- RAD: 방사형 고속도로까지의 거리  \n",
    "- DIS: 직업센터의 거리  \n",
    "- TAX: 재산세율  \n",
    "\n",
    "#### 반응 변수(결과: 예측하고자 하는 값) -> \"Y\"\n",
    "- MEDV: 주택가격"
   ]
  },
  {
   "cell_type": "code",
   "execution_count": null,
   "id": "3c04fb2f",
   "metadata": {},
   "outputs": [],
   "source": [
    "# 데이터 불러오기\n",
    "boston = load_boston()\n",
    "\n",
    "# 데이터 설명\n",
    "print(boston.DESCR)"
   ]
  },
  {
   "cell_type": "code",
   "execution_count": null,
   "id": "fd78fca3",
   "metadata": {},
   "outputs": [],
   "source": [
    "# 데이터 크기 및 사용 변수\n",
    "print(\"데이터 크기 : \", boston.data.shape)\n",
    "print(\"사용 변수 : \", boston.feature_names)"
   ]
  },
  {
   "cell_type": "code",
   "execution_count": null,
   "id": "7754b125",
   "metadata": {},
   "outputs": [],
   "source": [
    "# X, Y 예시\n",
    "print(\"X samples : \", boston.data[:3])\n",
    "print(\"X samples : \", boston.target[:3])"
   ]
  },
  {
   "cell_type": "markdown",
   "id": "cff080ad",
   "metadata": {},
   "source": [
    "## 3. 데이터 전처리\n",
    "\n",
    "$\\mathbf{X}$: 설명변수/입력변수 <br>\n",
    "$\\mathbf{y}$: 반응변수/출력변수\n",
    "\n",
    "- X, Y 데이터 프레임 만들기"
   ]
  },
  {
   "cell_type": "code",
   "execution_count": null,
   "id": "46c46937",
   "metadata": {},
   "outputs": [],
   "source": [
    "X = pd.DataFrame(boston.data, columns=boston.feature_names)\n",
    "y = pd.DataFrame(boston.target, columns=['MEDV'])"
   ]
  },
  {
   "cell_type": "code",
   "execution_count": null,
   "id": "13143570",
   "metadata": {},
   "outputs": [],
   "source": [
    "# X 예시 - 상위 5개 샘플 출력\n",
    "X.head()"
   ]
  },
  {
   "cell_type": "code",
   "execution_count": null,
   "id": "863c0aa4",
   "metadata": {},
   "outputs": [],
   "source": [
    "# Y 예시 - 상위 5개 샘플 출력\n",
    "y.head()"
   ]
  },
  {
   "cell_type": "markdown",
   "id": "20c8eb2f",
   "metadata": {},
   "source": [
    "- X, Y 데이터 프레임 합치기"
   ]
  },
  {
   "cell_type": "code",
   "execution_count": null,
   "id": "4e66a916",
   "metadata": {},
   "outputs": [],
   "source": [
    "data = pd.concat([X, y], axis=1)\n",
    "data.head()"
   ]
  },
  {
   "cell_type": "markdown",
   "id": "5e6b8911",
   "metadata": {},
   "source": [
    "## 4. 탐색적 데이터 분석\n",
    "\n",
    "- sns.pairplot을 이용하여 설명변수의 분포(히스토그램) 및 설명변수들 간의 관계(산점도)를 그리고, 특성을 파악"
   ]
  },
  {
   "cell_type": "code",
   "execution_count": null,
   "id": "9883b581",
   "metadata": {},
   "outputs": [],
   "source": [
    "sns.pairplot(data)\n",
    "plt.show()"
   ]
  },
  {
   "cell_type": "markdown",
   "id": "156b3fe6",
   "metadata": {},
   "source": [
    "- 일부 변수에 대해 그래프 확인"
   ]
  },
  {
   "cell_type": "code",
   "execution_count": null,
   "id": "cea2f9c4",
   "metadata": {},
   "outputs": [],
   "source": [
    "# \"RM\", \"DIS\", \"LSTAT\", \"MEDV\" 변수 확인\n",
    "plt.figure(figsize=(10, 10))\n",
    "sns.pairplot(data[['RM', 'DIS', 'LSTAT', 'MEDV']])\n",
    "plt.show()"
   ]
  },
  {
   "cell_type": "markdown",
   "id": "d5fae620",
   "metadata": {},
   "source": [
    "### 설명변수 간 상관계수(correlation coefficient) 확인\n",
    "\n",
    "- data.corr(): 데이터 상관관계\n",
    "- sns.heatmap(데이터, cmap= colormap 이름, annot=히트맵 안에 표시할 데이터)\n"
   ]
  },
  {
   "cell_type": "code",
   "execution_count": null,
   "id": "fe1f64a4",
   "metadata": {},
   "outputs": [],
   "source": [
    "# 상관계수 행렬\n",
    "data.corr()"
   ]
  },
  {
   "cell_type": "code",
   "execution_count": null,
   "id": "5de7575b",
   "metadata": {},
   "outputs": [],
   "source": [
    "plt.figure(figsize=(12, 12))\n",
    "sns.heatmap(data.corr(), cmap=sns.color_palette(\"coolwarm\", 10), annot=True)\n",
    "# sns.heatmap(data.corr(), cmap=\"jet\", annot=True) ## Color map 변경 \n",
    "# sns.heatmap(data.corr(), cmap=sns.color_palette(\"coolwarm\", 10), annot=False) ## Annot 변경\n",
    "plt.show()"
   ]
  },
  {
   "cell_type": "markdown",
   "id": "d4a8be85",
   "metadata": {},
   "source": [
    "- 특정 값 이상 상관성을 갖는 조합을 확인"
   ]
  },
  {
   "cell_type": "code",
   "execution_count": null,
   "id": "1cf5d953",
   "metadata": {},
   "outputs": [],
   "source": [
    "threshold_corr = 0.5\n",
    "\n",
    "corrmat = data.corr()\n",
    "select_features = corrmat.index[abs(corrmat[\"MEDV\"]) >= threshold_corr]\n",
    "\n",
    "plt.figure(figsize=(10,10))\n",
    "sns.heatmap(data[select_features].corr(), cmap=sns.color_palette(\"coolwarm\", 10), annot=True)"
   ]
  },
  {
   "cell_type": "markdown",
   "id": "309c09e8",
   "metadata": {},
   "source": [
    "## 5. 모델링\n",
    "\n",
    "### statsmodels의 OLS를 사용하여 선형회귀분석 시행 (OLS: Ordinary Least Squares)\n",
    " - OLS: 가장 기본적인 결정론적 선형 회귀 방법으로 잔차제곱합(RSS: Residual Sum of Squares)를 최소화하는 가중치(β1, β2 ...) 구하는 방법\n",
    " - 모델 선언: model = sm.OLS(Y데이터, X데이터)   \n",
    " - 모델 학습: model_trained = model.fit()"
   ]
  },
  {
   "cell_type": "code",
   "execution_count": null,
   "id": "7f07e836-1546-4d7c-a86b-9d6d34126656",
   "metadata": {},
   "outputs": [],
   "source": [
    "Image('/content/Metric/image/intro1.png')"
   ]
  },
  {
   "cell_type": "code",
   "execution_count": null,
   "id": "e0996321",
   "metadata": {},
   "outputs": [],
   "source": [
    "# 상수항(b0) 정의\n",
    "data = sm.add_constant(data)\n",
    "\n",
    "# 입력변수(X)와 출력변수(Y) 정의\n",
    "model = sm.OLS(data['MEDV'], data.drop(['MEDV'], axis=1))"
   ]
  },
  {
   "cell_type": "code",
   "execution_count": null,
   "id": "e612da1e",
   "metadata": {},
   "outputs": [],
   "source": [
    "# 최적의 파라미터 탐색\n",
    "model_trained = model.fit()"
   ]
  },
  {
   "cell_type": "markdown",
   "id": "cc44a1f4",
   "metadata": {},
   "source": [
    "### QQ plot을 통해 선형 모형의 정규성 가정을 시각적으로 확인"
   ]
  },
  {
   "cell_type": "code",
   "execution_count": null,
   "id": "a3ac2066",
   "metadata": {},
   "outputs": [],
   "source": [
    "# 확률오차의 정규성 확인\n",
    "\n",
    "model_residuals = model_trained.resid\n",
    "\n",
    "plt.rcParams['axes.unicode_minus'] = False # 음수 폰트 깨짐 방지\n",
    "fig, ax = plt.subplots(1,1)\n",
    "fig.set_figheight(8)\n",
    "fig.set_figwidth(10)\n",
    "\n",
    "sm.ProbPlot(model_residuals).qqplot(line='s', color='#1f77b4', ax=ax)\n",
    "ax.title.set_text('Q-Q Plot')"
   ]
  },
  {
   "cell_type": "code",
   "execution_count": null,
   "id": "4d4a7e98",
   "metadata": {},
   "outputs": [],
   "source": [
    "# 확률오차의 등분산성 확인\n",
    "\n",
    "model_fitted_y= model_trained.fittedvalues\n",
    "\n",
    "fig, ax = plt.subplots()\n",
    "fig.set_figheight(8)\n",
    "fig.set_figwidth(10)\n",
    "\n",
    "sns.residplot(x=model_fitted_y, y=data['MEDV'], lowess=True, scatter_kws={'alpha': 0.5}, \n",
    "              line_kws={'color':'red'}, ax=ax)\n",
    "ax.title.set_text('Residuals vs Fitted')\n",
    "ax.set(xlabel='Fitted values', ylabel='Residuals')"
   ]
  },
  {
   "cell_type": "markdown",
   "id": "0d919193",
   "metadata": {},
   "source": [
    "## 6. 모델 해석\n",
    "- R-squared (결정계수,coefficient of determination):모형의 성능\n",
    "- coef (회귀계수): X가 한단위 증가할 때 Y의 변화량\n",
    "- P>[t] (p-value):0.05(유의수준) 이하일 때 변수가 유의미"
   ]
  },
  {
   "cell_type": "markdown",
   "id": "16c8d886",
   "metadata": {},
   "source": [
    "# __모델 해석__"
   ]
  },
  {
   "cell_type": "code",
   "execution_count": null,
   "id": "11cd2e48",
   "metadata": {},
   "outputs": [],
   "source": [
    "display(model_trained.summary())"
   ]
  },
  {
   "cell_type": "code",
   "execution_count": null,
   "id": "748047a8-be3e-42ca-8376-cef265b72ee4",
   "metadata": {},
   "outputs": [],
   "source": [
    "Image('/content/Metric/image/intro2.png')"
   ]
  },
  {
   "cell_type": "markdown",
   "id": "ecb2bcf2",
   "metadata": {},
   "source": [
    "## 7. 회귀모델 성능 평가"
   ]
  },
  {
   "cell_type": "code",
   "execution_count": null,
   "id": "59e84e09",
   "metadata": {},
   "outputs": [],
   "source": [
    "# 실제값\n",
    "true = y\n",
    "\n",
    "# 예측값\n",
    "pred = model_trained.fittedvalues"
   ]
  },
  {
   "cell_type": "code",
   "execution_count": null,
   "id": "574e3c1f",
   "metadata": {},
   "outputs": [],
   "source": [
    "fig_values = np.concatenate([true.values.squeeze(), pred.values.squeeze()])\n",
    "vmin = np.min(fig_values) * 0.95\n",
    "vmax = np.max(fig_values) * 1.05\n",
    "\n",
    "plt.figure(figsize=(8, 8))\n",
    "plt.title('실제값 vs. 모델 출력 값', size=18)\n",
    "plt.scatter(y, pred)\n",
    "plt.plot([vmin, vmax], [vmin, vmax], color='grey', linestyle='dashed')\n",
    "plt.xlabel('실제값', size=16)\n",
    "plt.ylabel('모델 출력 값', size=16)\n",
    "plt.show()"
   ]
  },
  {
   "cell_type": "markdown",
   "id": "ea046d62",
   "metadata": {},
   "source": [
    "### 다양한 회귀 모델 예측 성능 평가 지표들"
   ]
  },
  {
   "cell_type": "markdown",
   "id": "17d3f4bd",
   "metadata": {},
   "source": [
    "- 실제값 : $y_{i}$\n",
    "- 예측값 : $\\hat{y}_{i}$\n",
    "\n",
    "#### Mean Squared Error (평균 제곱 오차): $\\frac{1}{n} \\sum_{i=1}^{n} (y_{i} - \\hat{y}_{i})^{2}$\n",
    "\n",
    "####  Root Mean Squared Error (제곱근 평균 제곱 오차): $\\sqrt{\\frac{1}{n} \\sum_{i=1}^{n} (y_{i} - \\hat{y}_{i})^{2}}$\n",
    "\n",
    "####  Mean Absolute Error (평균 절대 오차): $\\frac{1}{n} \\sum_{i=1}^{n} |\\hat{y}_{i}- y_{i}|$\n",
    "\n",
    "####  Mean Absolute Percentage Error (평균 절대 백분율 오차): $\\frac{100}{n} \\sum_{i=1}^{n} |\\frac{\\hat{y}_{i}- y_{i}}{\\hat{y}_{i}}|$\n",
    "\n",
    "####  R squared (결정계수 $({r})^{2}$): $\\frac{SSR}{SST} = 1- \\frac{SSR}{SST}%$"
   ]
  },
  {
   "cell_type": "code",
   "execution_count": null,
   "id": "d2bbe871",
   "metadata": {},
   "outputs": [],
   "source": [
    "# MAPE def.\n",
    "def mean_absolute_percentage_error(y_true, y_pred):\n",
    "    y_true, y_pred = np.array(y_true), np.array(y_pred)\n",
    "    return np.mean(np.abs((y_true-y_pred)/y_true))*100"
   ]
  },
  {
   "cell_type": "code",
   "execution_count": null,
   "id": "9c5210ad",
   "metadata": {},
   "outputs": [],
   "source": [
    "MSE_value = mean_squared_error(true, pred)\n",
    "RMSE_value = np.sqrt(mean_squared_error(true, pred))\n",
    "MAE_value = mean_absolute_error(true, pred)\n",
    "MAPE_value = mean_absolute_percentage_error(true, pred)\n",
    "r2_value = r2_score(true, pred)\n",
    "\n",
    "print(\"Training MSE : {:.3f}\".format(MSE_value))\n",
    "print(\"Training RMSE : {:.3f}\".format(RMSE_value))\n",
    "print(\"Training MAE : {:.3f}\".format(MAE_value))\n",
    "print(\"Training MAPE : {:.3f}\".format(MAPE_value))\n",
    "print(\"Training R2 : {:.3f}\".format(r2_value))"
   ]
  },
  {
   "cell_type": "markdown",
   "id": "f8ee4990-ce15-402f-b124-78819193efe9",
   "metadata": {},
   "source": [
    "---"
   ]
  }
 ],
 "metadata": {
  "kernelspec": {
   "display_name": "ttest3.8",
   "language": "python",
   "name": "ttest3.8"
  },
  "language_info": {
   "codemirror_mode": {
    "name": "ipython",
    "version": 3
   },
   "file_extension": ".py",
   "mimetype": "text/x-python",
   "name": "python",
   "nbconvert_exporter": "python",
   "pygments_lexer": "ipython3",
   "version": "3.8.13"
  }
 },
 "nbformat": 4,
 "nbformat_minor": 5
}
