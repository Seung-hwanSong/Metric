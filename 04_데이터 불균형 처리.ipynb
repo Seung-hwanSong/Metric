{
 "cells": [
  {
   "cell_type": "code",
   "execution_count": null,
   "metadata": {},
   "outputs": [],
   "source": [
    "!pip install -U imbalanced-learn\n",
    "# conda install -c conda-forge imbalanced-learn "
   ]
  },
  {
   "cell_type": "code",
   "execution_count": null,
   "metadata": {
    "tags": []
   },
   "outputs": [],
   "source": [
    "!pip install tqdm"
   ]
  },
  {
   "cell_type": "code",
   "execution_count": null,
   "metadata": {},
   "outputs": [],
   "source": [
    "!git clone https://github.com/Seung-hwanSong/Metric.git #코랩 사용"
   ]
  },
  {
   "cell_type": "markdown",
   "metadata": {
    "id": "vyjFPs5W08JI"
   },
   "source": [
    "# [모델 평가]\n",
    "## 데이터 불균형 처리"
   ]
  },
  {
   "cell_type": "markdown",
   "metadata": {},
   "source": [
    "##### jupyter notebook 단축키\n",
    "\n",
    "- ctrl+enter: 셀 실행   \n",
    "- shift+enter: 셀 실행 및 다음 셀 이동   \n",
    "- alt+enter: 셀 실행, 다음 셀 이동, 새로운 셀 생성\n",
    "- a: 상단에 새로운 셀 만들기\n",
    "- b: 하단에 새로운 셀 만들기\n",
    "- dd: 셀 삭제(x: 셀 삭제)\n",
    "- 함수 ( ) 안에서 shift+tab: arguments description. shift+tab+tab은 길게 볼 수 있도록"
   ]
  },
  {
   "cell_type": "markdown",
   "metadata": {},
   "source": [
    "## 1. 모듈 불러오기"
   ]
  },
  {
   "cell_type": "code",
   "execution_count": null,
   "metadata": {
    "executionInfo": {
     "elapsed": 385,
     "status": "ok",
     "timestamp": 1627360751358,
     "user": {
      "displayName": "‍김태형[ 대학원석·박사통합과정재학 / 산업경영공학과 ]",
      "photoUrl": "https://lh3.googleusercontent.com/a-/AOh14GjFNpnkjN-Em0rOki5hhy0HR7yGAbxSpzCjHV0A=s64",
      "userId": "00288066936238655028"
     },
     "user_tz": -540
    },
    "id": "Q7TU_03_08JJ"
   },
   "outputs": [],
   "source": [
    "''' 기본 모듈 '''\n",
    "import numpy as np\n",
    "import pandas as pd\n",
    "import scipy as sp\n",
    "import random\n",
    "\n",
    "''' 결과 평가용 모듈 '''\n",
    "from sklearn.svm import SVC\n",
    "from sklearn.metrics import classification_report, confusion_matrix\n",
    "\n",
    "''' 불균형 처리 모듈 '''\n",
    "from imblearn.under_sampling import *\n",
    "from imblearn.over_sampling import *\n",
    "# from tsai.all import *\n",
    "from tqdm.auto import tqdm\n",
    "\n",
    "import matplotlib.pyplot as plt\n",
    "from matplotlib import font_manager, rc, rcParams\n",
    "\n",
    "%matplotlib inline"
   ]
  },
  {
   "cell_type": "markdown",
   "metadata": {
    "id": "os8XYpkI08JJ"
   },
   "source": [
    "## 2. Imbalanced Data roblem\n",
    "> 정확도(accuracy)가 높아도 데이터 갯수가 적은 class의 재현율(recall-rate)이 급격히 작아지는 현상이 발생함."
   ]
  },
  {
   "cell_type": "code",
   "execution_count": null,
   "metadata": {
    "colab": {
     "base_uri": "https://localhost:8080/",
     "height": 441
    },
    "executionInfo": {
     "elapsed": 6554,
     "status": "ok",
     "timestamp": 1627360757911,
     "user": {
      "displayName": "‍김태형[ 대학원석·박사통합과정재학 / 산업경영공학과 ]",
      "photoUrl": "https://lh3.googleusercontent.com/a-/AOh14GjFNpnkjN-Em0rOki5hhy0HR7yGAbxSpzCjHV0A=s64",
      "userId": "00288066936238655028"
     },
     "user_tz": -540
    },
    "id": "3JHbrncc08JK",
    "outputId": "309398c4-96df-4f09-95da-7576a8588c3d"
   },
   "outputs": [],
   "source": [
    "def classification_result(n0, n1, title=\"\"):\n",
    "    rv1 = sp.stats.multivariate_normal([-1, 0], [[1, 0], [0, 1]])\n",
    "    rv2 = sp.stats.multivariate_normal([+1, 0], [[1, 0], [0, 1]])\n",
    "    X0 = rv1.rvs(n0, random_state=0)\n",
    "    X1 = rv2.rvs(n1, random_state=0)\n",
    "    X = np.vstack([X0, X1])\n",
    "    y = np.hstack([np.zeros(n0), np.ones(n1)])\n",
    "\n",
    "    x1min = -4; x1max = 4\n",
    "    x2min = -2; x2max = 2\n",
    "    xx1 = np.linspace(x1min, x1max, 1000)\n",
    "    xx2 = np.linspace(x2min, x2max, 1000)\n",
    "    X1, X2 = np.meshgrid(xx1, xx2)\n",
    "\n",
    "    plt.contour(X1, X2, rv1.pdf(np.dstack([X1, X2])), levels=[0.05], linestyles=\"dashed\")\n",
    "    plt.contour(X1, X2, rv2.pdf(np.dstack([X1, X2])), levels=[0.05], linestyles=\"dashed\")\n",
    "\n",
    "    model = SVC(kernel=\"linear\", C=1e4, random_state=0).fit(X, y)\n",
    "    Y = np.reshape(model.predict(np.array([X1.ravel(), X2.ravel()]).T), X1.shape)\n",
    "    plt.scatter(X[y == 0, 0], X[y == 0, 1], marker='o', label=\"0 클래스\")\n",
    "    plt.scatter(X[y == 1, 0], X[y == 1, 1], marker='o', label=\"1 클래스\")\n",
    "    plt.contour(X1, X2, Y, colors='k', levels=[0.5])\n",
    "    y_pred = model.predict(X)\n",
    "    plt.xlim(-4, 4)\n",
    "    plt.ylim(-3, 3)\n",
    "    plt.xlabel(\"x1\")\n",
    "    plt.ylabel(\"x2\")\n",
    "    plt.title(title)\n",
    "    \n",
    "    return model, X, y, y_pred\n",
    "\n",
    "plt.figure(figsize=(12,6))\n",
    "plt.subplot(121)\n",
    "model1, X1, y1, y_pred1 = classification_result(200, 200, \"balanced data (5:5)\")\n",
    "plt.subplot(122)\n",
    "model2, X2, y2, y_pred2 = classification_result(200, 20, \"imbalanced data (9:1)\")\n",
    "plt.tight_layout()\n",
    "\n",
    "plt.show()"
   ]
  },
  {
   "cell_type": "code",
   "execution_count": null,
   "metadata": {
    "colab": {
     "base_uri": "https://localhost:8080/"
    },
    "executionInfo": {
     "elapsed": 5,
     "status": "ok",
     "timestamp": 1627360757912,
     "user": {
      "displayName": "‍김태형[ 대학원석·박사통합과정재학 / 산업경영공학과 ]",
      "photoUrl": "https://lh3.googleusercontent.com/a-/AOh14GjFNpnkjN-Em0rOki5hhy0HR7yGAbxSpzCjHV0A=s64",
      "userId": "00288066936238655028"
     },
     "user_tz": -540
    },
    "id": "vTaD-k5-08JL",
    "outputId": "e5ceca98-ae62-4ee1-d60f-e20a2ed9976c"
   },
   "outputs": [],
   "source": [
    "print(classification_report(y1, y_pred1))\n",
    "print(classification_report(y2, y_pred2))"
   ]
  },
  {
   "cell_type": "markdown",
   "metadata": {
    "id": "3fj-5UE-08JL"
   },
   "source": [
    "### Sampling Example"
   ]
  },
  {
   "cell_type": "code",
   "execution_count": null,
   "metadata": {
    "executionInfo": {
     "elapsed": 3,
     "status": "ok",
     "timestamp": 1627360757912,
     "user": {
      "displayName": "‍김태형[ 대학원석·박사통합과정재학 / 산업경영공학과 ]",
      "photoUrl": "https://lh3.googleusercontent.com/a-/AOh14GjFNpnkjN-Em0rOki5hhy0HR7yGAbxSpzCjHV0A=s64",
      "userId": "00288066936238655028"
     },
     "user_tz": -540
    },
    "id": "eNHX45Lv08JL"
   },
   "outputs": [],
   "source": [
    "n0 = 200; n1 = 20\n",
    "rv1 = sp.stats.multivariate_normal([-1, 0], [[1, 0], [0, 1]])\n",
    "rv2 = sp.stats.multivariate_normal([+1, 0], [[1, 0], [0, 1]])\n",
    "X0 = rv1.rvs(n0, random_state=0)\n",
    "X1 = rv2.rvs(n1, random_state=0)\n",
    "X_imb = np.vstack([X0, X1])\n",
    "y_imb = np.hstack([np.zeros(n0), np.ones(n1)])\n",
    "\n",
    "x1min = -4; x1max = 4\n",
    "x2min = -2; x2max = 2\n",
    "xx1 = np.linspace(x1min, x1max, 1000)\n",
    "xx2 = np.linspace(x2min, x2max, 1000)\n",
    "X1, X2 = np.meshgrid(xx1, xx2)\n",
    "\n",
    "def classification_result2(X, y, title=\"\"):\n",
    "    plt.contour(X1, X2, rv1.pdf(np.dstack([X1, X2])), levels=[0.05], linestyles=\"dashed\")\n",
    "    plt.contour(X1, X2, rv2.pdf(np.dstack([X1, X2])), levels=[0.05], linestyles=\"dashed\")\n",
    "    model = SVC(kernel=\"linear\", C=1e4, random_state=0).fit(X, y)\n",
    "    Y = np.reshape(model.predict(np.array([X1.ravel(), X2.ravel()]).T), X1.shape)\n",
    "    plt.scatter(X[y == 0, 0], X[y == 0, 1], marker='o', label=\"0 클래스\")\n",
    "    plt.scatter(X[y == 1, 0], X[y == 1, 1], marker='o', label=\"1 클래스\")\n",
    "    plt.contour(X1, X2, Y, colors='k', levels=[0.5])\n",
    "    y_pred = model.predict(X)\n",
    "    plt.xlim(-4, 4)\n",
    "    plt.ylim(-3, 3)\n",
    "    plt.xlabel(\"x1\")\n",
    "    plt.ylabel(\"x2\")\n",
    "    plt.title(title)\n",
    "    return model"
   ]
  },
  {
   "cell_type": "markdown",
   "metadata": {
    "id": "0Gs0Xqtf08JM"
   },
   "source": [
    "Under or Over Sampling을 사용하여 데이터 비율을 맞추면 정밀도(precision)가 향상됨."
   ]
  },
  {
   "cell_type": "markdown",
   "metadata": {
    "id": "1ZXD2-0b08JM"
   },
   "source": [
    "## 3. Under Sampling"
   ]
  },
  {
   "cell_type": "markdown",
   "metadata": {
    "id": "8A2bNu3o08JM"
   },
   "source": [
    "### 3.1 Random Under-Sampler\n",
    ">무작위로 데이터를 없애는 단순 샘플링"
   ]
  },
  {
   "cell_type": "code",
   "execution_count": null,
   "metadata": {
    "colab": {
     "base_uri": "https://localhost:8080/",
     "height": 283
    },
    "executionInfo": {
     "elapsed": 2245,
     "status": "ok",
     "timestamp": 1627360760154,
     "user": {
      "displayName": "‍김태형[ 대학원석·박사통합과정재학 / 산업경영공학과 ]",
      "photoUrl": "https://lh3.googleusercontent.com/a-/AOh14GjFNpnkjN-Em0rOki5hhy0HR7yGAbxSpzCjHV0A=s64",
      "userId": "00288066936238655028"
     },
     "user_tz": -540
    },
    "id": "r3VjXiOq08JM",
    "outputId": "985db290-5968-4519-9c6a-322f9c58abf1"
   },
   "outputs": [],
   "source": [
    "X_samp, y_samp = RandomUnderSampler(random_state=0).fit_resample(X_imb, y_imb)\n",
    "\n",
    "plt.subplot(121)\n",
    "classification_result2(X_imb, y_imb)\n",
    "plt.subplot(122)\n",
    "model_samp = classification_result2(X_samp, y_samp)"
   ]
  },
  {
   "cell_type": "code",
   "execution_count": null,
   "metadata": {
    "colab": {
     "base_uri": "https://localhost:8080/"
    },
    "executionInfo": {
     "elapsed": 5,
     "status": "ok",
     "timestamp": 1627360760155,
     "user": {
      "displayName": "‍김태형[ 대학원석·박사통합과정재학 / 산업경영공학과 ]",
      "photoUrl": "https://lh3.googleusercontent.com/a-/AOh14GjFNpnkjN-Em0rOki5hhy0HR7yGAbxSpzCjHV0A=s64",
      "userId": "00288066936238655028"
     },
     "user_tz": -540
    },
    "id": "PjfVmHm908JN",
    "outputId": "701ba62d-66b2-4da9-889d-4447917f648f"
   },
   "outputs": [],
   "source": [
    "print(classification_report(y_imb, model_samp.predict(X_imb)))"
   ]
  },
  {
   "cell_type": "markdown",
   "metadata": {
    "id": "TJsEWmp508JN"
   },
   "source": [
    "### 3.2 Tomek's link method\n",
    ">토멕링크(Tomek’s link)란 서로 다른 클래스에 속하는 한 쌍의 데이터  (x+,x−) 로 서로에게 더 가까운 다른 데이터가 존재하지 않는 것\n",
    "\n",
    ">즉 클래스가 다른 두 데이터가 아주 가까이 붙어있으면 토멕링크가 됨\n",
    "\n",
    ">토멕링크 방법은 이러한 토멕링크를 찾은 다음 그 중에서 다수 클래스에 속하는 데이터를 제외하는 방법으로 경계선을 다수 클래스쪽으로 밀어붙이는 효과가 있음"
   ]
  },
  {
   "cell_type": "code",
   "execution_count": null,
   "metadata": {
    "colab": {
     "base_uri": "https://localhost:8080/",
     "height": 283
    },
    "executionInfo": {
     "elapsed": 2860,
     "status": "ok",
     "timestamp": 1627360763012,
     "user": {
      "displayName": "‍김태형[ 대학원석·박사통합과정재학 / 산업경영공학과 ]",
      "photoUrl": "https://lh3.googleusercontent.com/a-/AOh14GjFNpnkjN-Em0rOki5hhy0HR7yGAbxSpzCjHV0A=s64",
      "userId": "00288066936238655028"
     },
     "user_tz": -540
    },
    "id": "zfunpqDE08JN",
    "outputId": "43488b7d-ec20-48dd-81d4-8d2e6e3bc705"
   },
   "outputs": [],
   "source": [
    "X_samp, y_samp = TomekLinks().fit_resample(X_imb, y_imb)\n",
    "\n",
    "plt.subplot(121)\n",
    "classification_result2(X_imb, y_imb)\n",
    "plt.subplot(122)\n",
    "model_samp = classification_result2(X_samp, y_samp)"
   ]
  },
  {
   "cell_type": "code",
   "execution_count": null,
   "metadata": {
    "colab": {
     "base_uri": "https://localhost:8080/"
    },
    "executionInfo": {
     "elapsed": 5,
     "status": "ok",
     "timestamp": 1627360763013,
     "user": {
      "displayName": "‍김태형[ 대학원석·박사통합과정재학 / 산업경영공학과 ]",
      "photoUrl": "https://lh3.googleusercontent.com/a-/AOh14GjFNpnkjN-Em0rOki5hhy0HR7yGAbxSpzCjHV0A=s64",
      "userId": "00288066936238655028"
     },
     "user_tz": -540
    },
    "id": "hasYll2F08JN",
    "outputId": "5bba8602-d4f1-4dcd-882d-6c417a4a1638"
   },
   "outputs": [],
   "source": [
    "print(classification_report(y_imb, model_samp.predict(X_imb)))"
   ]
  },
  {
   "cell_type": "markdown",
   "metadata": {
    "id": "Ctxd0tIw08JO"
   },
   "source": [
    "### 3.3 Condensed Nearest Neighbour\n",
    "> CNN(Condensed Nearest Neighbour) 방법은 1-NN 모형으로 분류되지 않는 데이터만 남기는 방법 \n",
    " >> 선텍된 데이터 집합을 S 라고 하면, \n",
    " \n",
    " >> 소수 클래스 데이터를 모두 S 에 포함시킴\n",
    " \n",
    " >> 다수 데이터 중에서 하나를 골라서 가장 가까운 데이터가 다수 클래스이면 포함시키지 않고 아니면  S 에 포함시킴\n",
    " \n",
    " >> 더이상 선택되는 데이터가 없을 때까지 2를 반복\n",
    "    \n",
    "> 이 방법을 사용하면 기존에 선택된 데이터와 가까이 있으면서 같은 클래스인 데이터는 선택되지 않기 때문에 다수 데이터의 경우 선택되는 비율이 적어짐"
   ]
  },
  {
   "cell_type": "code",
   "execution_count": null,
   "metadata": {
    "colab": {
     "base_uri": "https://localhost:8080/",
     "height": 283
    },
    "executionInfo": {
     "elapsed": 4699,
     "status": "ok",
     "timestamp": 1627360767709,
     "user": {
      "displayName": "‍김태형[ 대학원석·박사통합과정재학 / 산업경영공학과 ]",
      "photoUrl": "https://lh3.googleusercontent.com/a-/AOh14GjFNpnkjN-Em0rOki5hhy0HR7yGAbxSpzCjHV0A=s64",
      "userId": "00288066936238655028"
     },
     "user_tz": -540
    },
    "id": "bheNZAes08JO",
    "outputId": "d30b5552-47d0-42af-c485-32dcbdfdc7bf"
   },
   "outputs": [],
   "source": [
    "X_samp, y_samp = CondensedNearestNeighbour(random_state=0).fit_resample(X_imb, y_imb)\n",
    "\n",
    "plt.subplot(121)\n",
    "classification_result2(X_imb, y_imb)\n",
    "plt.subplot(122)\n",
    "model_samp = classification_result2(X_samp, y_samp)"
   ]
  },
  {
   "cell_type": "code",
   "execution_count": null,
   "metadata": {
    "colab": {
     "base_uri": "https://localhost:8080/"
    },
    "executionInfo": {
     "elapsed": 5,
     "status": "ok",
     "timestamp": 1627360767710,
     "user": {
      "displayName": "‍김태형[ 대학원석·박사통합과정재학 / 산업경영공학과 ]",
      "photoUrl": "https://lh3.googleusercontent.com/a-/AOh14GjFNpnkjN-Em0rOki5hhy0HR7yGAbxSpzCjHV0A=s64",
      "userId": "00288066936238655028"
     },
     "user_tz": -540
    },
    "id": "OYFjErf208JO",
    "outputId": "272faf48-05b4-4935-bd73-0f01b5e07477"
   },
   "outputs": [],
   "source": [
    "print(classification_report(y_imb, model_samp.predict(X_imb)))"
   ]
  },
  {
   "cell_type": "markdown",
   "metadata": {
    "id": "WIAOheXR08JP"
   },
   "source": [
    "### 3.4 One Sided Selection\n",
    "> One Sided Selection은 토맥링크 방법과 Condensed Nearest Neighbour 방법을 섞은 것\n",
    "\n",
    "> 토맥링크 중 다수 클래스를 제외하고 나머지 데이터 중에서도 서로 붙어있는 다수 클래스 데이터는 1-NN 방법으로 제외"
   ]
  },
  {
   "cell_type": "code",
   "execution_count": null,
   "metadata": {
    "colab": {
     "base_uri": "https://localhost:8080/",
     "height": 283
    },
    "executionInfo": {
     "elapsed": 2801,
     "status": "ok",
     "timestamp": 1627360770508,
     "user": {
      "displayName": "‍김태형[ 대학원석·박사통합과정재학 / 산업경영공학과 ]",
      "photoUrl": "https://lh3.googleusercontent.com/a-/AOh14GjFNpnkjN-Em0rOki5hhy0HR7yGAbxSpzCjHV0A=s64",
      "userId": "00288066936238655028"
     },
     "user_tz": -540
    },
    "id": "RxkyISWn08JP",
    "outputId": "587acaf1-ceda-4224-a20e-f4cb7b91ec4a"
   },
   "outputs": [],
   "source": [
    "X_samp, y_samp = OneSidedSelection(random_state=0).fit_resample(X_imb, y_imb)\n",
    "\n",
    "plt.subplot(121)\n",
    "classification_result2(X_imb, y_imb)\n",
    "plt.subplot(122)\n",
    "model_samp = classification_result2(X_samp, y_samp)"
   ]
  },
  {
   "cell_type": "code",
   "execution_count": null,
   "metadata": {
    "colab": {
     "base_uri": "https://localhost:8080/"
    },
    "executionInfo": {
     "elapsed": 3,
     "status": "ok",
     "timestamp": 1627360770508,
     "user": {
      "displayName": "‍김태형[ 대학원석·박사통합과정재학 / 산업경영공학과 ]",
      "photoUrl": "https://lh3.googleusercontent.com/a-/AOh14GjFNpnkjN-Em0rOki5hhy0HR7yGAbxSpzCjHV0A=s64",
      "userId": "00288066936238655028"
     },
     "user_tz": -540
    },
    "id": "hDoJmdNc08JP",
    "outputId": "ddfe6b22-515a-435b-ae28-599955c132f2"
   },
   "outputs": [],
   "source": [
    "print(classification_report(y_imb, model_samp.predict(X_imb)))"
   ]
  },
  {
   "cell_type": "markdown",
   "metadata": {
    "id": "4WA4KoCc08JP"
   },
   "source": [
    "## 4. Over Sampling"
   ]
  },
  {
   "cell_type": "markdown",
   "metadata": {
    "id": "ZPYmKtsa08JP"
   },
   "source": [
    "### 4.1 RandomOverSampler\n",
    "> Random Over Sampling은 소수 클래스의 데이터를 반복해서 넣는 것(replacement)\n",
    "\n",
    "> 가중치를 증가시키는 것과 비슷"
   ]
  },
  {
   "cell_type": "code",
   "execution_count": null,
   "metadata": {
    "colab": {
     "base_uri": "https://localhost:8080/",
     "height": 283
    },
    "executionInfo": {
     "elapsed": 5723,
     "status": "ok",
     "timestamp": 1627360776229,
     "user": {
      "displayName": "‍김태형[ 대학원석·박사통합과정재학 / 산업경영공학과 ]",
      "photoUrl": "https://lh3.googleusercontent.com/a-/AOh14GjFNpnkjN-Em0rOki5hhy0HR7yGAbxSpzCjHV0A=s64",
      "userId": "00288066936238655028"
     },
     "user_tz": -540
    },
    "id": "p8bbYE_A08JP",
    "outputId": "ab1310d6-1bc7-4d51-cb4a-e853404bbb16"
   },
   "outputs": [],
   "source": [
    "X_samp, y_samp = RandomOverSampler(random_state=0).fit_resample(X_imb, y_imb)\n",
    "\n",
    "plt.subplot(121)\n",
    "classification_result2(X_imb, y_imb)\n",
    "plt.subplot(122)\n",
    "model_samp = classification_result2(X_samp, y_samp)"
   ]
  },
  {
   "cell_type": "code",
   "execution_count": null,
   "metadata": {
    "colab": {
     "base_uri": "https://localhost:8080/"
    },
    "executionInfo": {
     "elapsed": 4,
     "status": "ok",
     "timestamp": 1627360776230,
     "user": {
      "displayName": "‍김태형[ 대학원석·박사통합과정재학 / 산업경영공학과 ]",
      "photoUrl": "https://lh3.googleusercontent.com/a-/AOh14GjFNpnkjN-Em0rOki5hhy0HR7yGAbxSpzCjHV0A=s64",
      "userId": "00288066936238655028"
     },
     "user_tz": -540
    },
    "id": "OJ7jfiNR08JQ",
    "outputId": "3429a06e-88da-41a4-e31c-831bef77c9c0"
   },
   "outputs": [],
   "source": [
    "print(classification_report(y_imb, model_samp.predict(X_imb)))"
   ]
  },
  {
   "cell_type": "markdown",
   "metadata": {
    "id": "CVx1URun08JQ"
   },
   "source": [
    "### 4.2 ADASYN\n",
    "> ADASYN(Adaptive Synthetic Sampling) 방법은 소수 클래스 데이터와 그 데이터에서 가장 가까운 k개의 소수 클래스 데이터 중 무작위로 선택된 데이터 사이의 직선상에 가상의 소수 클래스 데이터를 만드는 방법"
   ]
  },
  {
   "cell_type": "code",
   "execution_count": null,
   "metadata": {
    "colab": {
     "base_uri": "https://localhost:8080/",
     "height": 283
    },
    "executionInfo": {
     "elapsed": 4745,
     "status": "ok",
     "timestamp": 1627360780973,
     "user": {
      "displayName": "‍김태형[ 대학원석·박사통합과정재학 / 산업경영공학과 ]",
      "photoUrl": "https://lh3.googleusercontent.com/a-/AOh14GjFNpnkjN-Em0rOki5hhy0HR7yGAbxSpzCjHV0A=s64",
      "userId": "00288066936238655028"
     },
     "user_tz": -540
    },
    "id": "Tu10ybOz08JQ",
    "outputId": "f06f99ba-019e-4cff-e6e7-c9cd591ea752"
   },
   "outputs": [],
   "source": [
    "X_samp, y_samp = ADASYN(random_state=0).fit_resample(X_imb, y_imb)\n",
    "\n",
    "plt.subplot(121)\n",
    "classification_result2(X_imb, y_imb)\n",
    "plt.subplot(122)\n",
    "model_samp = classification_result2(X_samp, y_samp)"
   ]
  },
  {
   "cell_type": "code",
   "execution_count": null,
   "metadata": {
    "colab": {
     "base_uri": "https://localhost:8080/"
    },
    "executionInfo": {
     "elapsed": 4,
     "status": "ok",
     "timestamp": 1627360780973,
     "user": {
      "displayName": "‍김태형[ 대학원석·박사통합과정재학 / 산업경영공학과 ]",
      "photoUrl": "https://lh3.googleusercontent.com/a-/AOh14GjFNpnkjN-Em0rOki5hhy0HR7yGAbxSpzCjHV0A=s64",
      "userId": "00288066936238655028"
     },
     "user_tz": -540
    },
    "id": "RE-ENAgw08JQ",
    "outputId": "615914ea-ee7b-4d32-de85-530d1a067702"
   },
   "outputs": [],
   "source": [
    "print(classification_report(y_imb, model_samp.predict(X_imb)))"
   ]
  },
  {
   "cell_type": "markdown",
   "metadata": {
    "id": "inbucW-J08JQ"
   },
   "source": [
    "### 4.3 SMOTE\n",
    "> SMOTE(Synthetic Minority Over-sampling Technique) 방법도 ADASYN 방법처럼 데이터를 생성하지만 생성된 데이터를 무조건 소수 클래스라고 하지 않고 분류 모형에 따라 분류함"
   ]
  },
  {
   "cell_type": "code",
   "execution_count": null,
   "metadata": {
    "colab": {
     "base_uri": "https://localhost:8080/",
     "height": 283
    },
    "executionInfo": {
     "elapsed": 4701,
     "status": "ok",
     "timestamp": 1627360785672,
     "user": {
      "displayName": "‍김태형[ 대학원석·박사통합과정재학 / 산업경영공학과 ]",
      "photoUrl": "https://lh3.googleusercontent.com/a-/AOh14GjFNpnkjN-Em0rOki5hhy0HR7yGAbxSpzCjHV0A=s64",
      "userId": "00288066936238655028"
     },
     "user_tz": -540
    },
    "id": "7rFGa2AN08JQ",
    "outputId": "b9864a07-eb51-4aa9-b11f-ea664e13f309"
   },
   "outputs": [],
   "source": [
    "X_samp, y_samp = SMOTE(random_state=4).fit_resample(X_imb, y_imb)\n",
    "\n",
    "plt.subplot(121)\n",
    "classification_result2(X_imb, y_imb)\n",
    "plt.subplot(122)\n",
    "model_samp = classification_result2(X_samp, y_samp)"
   ]
  },
  {
   "cell_type": "code",
   "execution_count": null,
   "metadata": {
    "colab": {
     "base_uri": "https://localhost:8080/"
    },
    "executionInfo": {
     "elapsed": 6,
     "status": "ok",
     "timestamp": 1627360785672,
     "user": {
      "displayName": "‍김태형[ 대학원석·박사통합과정재학 / 산업경영공학과 ]",
      "photoUrl": "https://lh3.googleusercontent.com/a-/AOh14GjFNpnkjN-Em0rOki5hhy0HR7yGAbxSpzCjHV0A=s64",
      "userId": "00288066936238655028"
     },
     "user_tz": -540
    },
    "id": "Af4l4KXP08JR",
    "outputId": "cceba8c5-72a0-462c-df5b-704ec4f5fc9a"
   },
   "outputs": [],
   "source": [
    "print(classification_report(y_imb, model_samp.predict(X_imb)))"
   ]
  },
  {
   "cell_type": "markdown",
   "metadata": {},
   "source": [
    "## 5. Time Series Oversampling"
   ]
  },
  {
   "cell_type": "markdown",
   "metadata": {},
   "source": [
    "### 데이터 불러오기\n"
   ]
  },
  {
   "cell_type": "code",
   "execution_count": null,
   "metadata": {},
   "outputs": [],
   "source": [
    "train_data = pd.read_table('/content/Metric/data/Wafer_TRAIN.tsv', header=None)\n",
    "test_data = pd.read_table('/content/Metric/data/Wafer_TEST.tsv', header=None)\n",
    "\n",
    "# 로컬\n",
    "# train_data = pd.read_table(\"./data/Wafer_TRAIN.tsv\", header=None)\n",
    "# test_data = pd.read_table(\"./data/Wafer_TEST.tsv\", header=None)\n",
    "\n",
    "train_X = np.array(train_data.iloc[:, 1:]) # 라벨 제외\n",
    "test_X = np.array(test_data.iloc[:, 1:]) # 라벨 제외\n",
    "\n",
    "train_y = np.array(train_data[0].apply(lambda x: 0 if x == 1 else 1)) # 라벨만\n",
    "test_y = np.array(test_data[0].apply(lambda x : 0 if x == 1 else 1)) # 라벨만\n",
    "\n",
    "train_X_max = np.max(train_X) # 데이터의 최대값\n",
    "train_X_min = np.min(train_X) # 데이터의 최소값\n",
    "\n",
    "# min-max normalization\n",
    "train_X = 2. * (train_X - train_X_min) / (train_X_max - train_X_min) - 1. \n",
    "test_X = 2. * (test_X - train_X_min) / (train_X_max - train_X_min) - 1.\n",
    "\n",
    "# (data size, data length) -> (data size, data length, data dimension)\n",
    "train_X = train_X.reshape(np.shape(train_X)[0], np.shape(train_X)[1], -1)"
   ]
  },
  {
   "cell_type": "markdown",
   "metadata": {},
   "source": [
    "### 정상 데이터"
   ]
  },
  {
   "cell_type": "code",
   "execution_count": null,
   "metadata": {},
   "outputs": [],
   "source": [
    "l = np.where(train_y == 0)[0]\n",
    "np.random.shuffle(l)\n",
    "for i in l[:3]:\n",
    "    fig = plt.figure(figsize=(10, 4))\n",
    "    fig = plt.plot(train_X[i],color='grey')\n",
    "    fig = plt.title(f\"Data Index : {i}, Class : Normal\")\n",
    "    fig = plt.xticks([])\n",
    "    plt.show()"
   ]
  },
  {
   "cell_type": "markdown",
   "metadata": {},
   "source": [
    "### 비정상 데이터"
   ]
  },
  {
   "cell_type": "code",
   "execution_count": null,
   "metadata": {},
   "outputs": [],
   "source": [
    "l = np.where(train_y == 1)[0]\n",
    "np.random.shuffle(l)\n",
    "for i in l[:3]:\n",
    "    fig = plt.figure(figsize=(10,4))\n",
    "    fig = plt.plot(train_X[i],color='grey')\n",
    "    fig = plt.title(f\"Data Index : {i}, Class : Anomaly\")\n",
    "    fig = plt.xticks([])\n",
    "    plt.show()"
   ]
  },
  {
   "cell_type": "code",
   "execution_count": null,
   "metadata": {},
   "outputs": [],
   "source": [
    "\"\"\" 시각화 \"\"\"\n",
    "\n",
    "def plot1d(x, x2, ylim=(-1, 1)):\n",
    "    plt.figure(figsize=(6, 3))\n",
    "    steps = np.arange(x.shape[0])\n",
    "    plt.plot(steps, x)\n",
    "    plt.plot(steps, x2)\n",
    "    plt.xlim(0, x.shape[0])\n",
    "    plt.ylim(ylim)\n",
    "    plt.tight_layout()\n",
    "    plt.show()\n",
    "    return"
   ]
  },
  {
   "cell_type": "code",
   "execution_count": null,
   "metadata": {},
   "outputs": [],
   "source": [
    "\"\"\" Augmentation \"\"\"\n",
    "\n",
    "class Augmentation:\n",
    "    def jitter(x, sigma=0.03):\n",
    "        # 시계열에 noise를 추가합니다.\n",
    "        return x + np.random.normal(loc=0., scale=sigma, size=x.shape)\n",
    "\n",
    "    def scaling(x, sigma=0.1):\n",
    "        # 시계열을 무작위 상수만큼 움직입니다.\n",
    "        factor = np.random.normal(loc=1., scale=sigma, size=(x.shape[0],x.shape[2]))\n",
    "        return np.multiply(x, factor[:,np.newaxis,:])\n",
    "\n",
    "    def rotation(x):\n",
    "        # 시계열을 무작위로 회전시킵니다.\n",
    "        flip = np.random.choice([-1, 1], size=(x.shape[0],x.shape[2]))\n",
    "        rotate_axis = np.arange(x.shape[2])\n",
    "        np.random.shuffle(rotate_axis)    \n",
    "        return flip[:,np.newaxis,:] * x[:,:,rotate_axis]\n",
    "\n",
    "    def permutation(x, max_segments=5, seg_mode=\"equal\"):\n",
    "        # 시계열을 부분으로 나누고, 뒤섞습니다.\n",
    "        orig_steps = np.arange(x.shape[1])\n",
    "\n",
    "        num_segs = np.random.randint(1, max_segments, size=(x.shape[0]))\n",
    "\n",
    "        ret = np.zeros_like(x)\n",
    "        for i, pat in enumerate(x):\n",
    "            if num_segs[i] > 1:\n",
    "                if seg_mode == \"random\":\n",
    "                    split_points = np.random.choice(x.shape[1]-2, num_segs[i]-1, replace=False)\n",
    "                    split_points.sort()\n",
    "                    splits = np.split(orig_steps, split_points)\n",
    "                else:\n",
    "                    splits = np.array_split(orig_steps, num_segs[i])\n",
    "                warp = np.concatenate(np.random.permutation(splits)).ravel()\n",
    "                ret[i] = pat[warp]\n",
    "            else:\n",
    "                ret[i] = pat\n",
    "        return ret\n",
    "\n",
    "    def magnitude_warp(x, sigma=0.2, knot=4):\n",
    "        # 설정된 수의 매듭으로 큐빅 스플라인에 의해 생성된 곡선으로 곱합니다.\n",
    "        from scipy.interpolate import CubicSpline\n",
    "        orig_steps = np.arange(x.shape[1])\n",
    "\n",
    "        random_warps = np.random.normal(loc=1.0, scale=sigma, size=(x.shape[0], knot+2, x.shape[2]))\n",
    "        warp_steps = (np.ones((x.shape[2],1))*(np.linspace(0, x.shape[1]-1., num=knot+2))).T\n",
    "        ret = np.zeros_like(x)\n",
    "        for i, pat in enumerate(x):\n",
    "            warper = np.array([CubicSpline(warp_steps[:,dim], random_warps[i,:,dim])(orig_steps) for dim in range(x.shape[2])]).T\n",
    "            ret[i] = pat * warper\n",
    "\n",
    "        return ret"
   ]
  },
  {
   "cell_type": "code",
   "execution_count": null,
   "metadata": {},
   "outputs": [],
   "source": [
    "plot1d(train_X[0], Augmentation.jitter(train_X)[0])"
   ]
  },
  {
   "cell_type": "code",
   "execution_count": null,
   "metadata": {},
   "outputs": [],
   "source": [
    "plot1d(train_X[0], Augmentation.scaling(train_X)[0])"
   ]
  },
  {
   "cell_type": "code",
   "execution_count": null,
   "metadata": {},
   "outputs": [],
   "source": [
    "plot1d(train_X[0], Augmentation.rotation(train_X)[0])"
   ]
  },
  {
   "cell_type": "code",
   "execution_count": null,
   "metadata": {},
   "outputs": [],
   "source": [
    "plot1d(train_X[0], Augmentation.magnitude_warp(train_X)[0])"
   ]
  },
  {
   "cell_type": "markdown",
   "metadata": {},
   "source": [
    "### Augmentation 된 데이터셋 만들기"
   ]
  },
  {
   "cell_type": "code",
   "execution_count": null,
   "metadata": {},
   "outputs": [],
   "source": [
    "train_X_jitter = Augmentation.jitter(train_X)\n",
    "train_X_scailing = Augmentation.scaling(train_X)\n",
    "train_X_rotation = Augmentation.rotation(train_X)\n",
    "train_X_permutation = Augmentation.permutation(train_X)\n",
    "train_X_magnitude_warp = Augmentation.magnitude_warp(train_X)"
   ]
  },
  {
   "cell_type": "code",
   "execution_count": null,
   "metadata": {},
   "outputs": [],
   "source": [
    "aug_train_X = np.concatenate([train_X, train_X_jitter, train_X_scailing, train_X_rotation, train_X_permutation, train_X_magnitude_warp])"
   ]
  },
  {
   "cell_type": "code",
   "execution_count": null,
   "metadata": {},
   "outputs": [],
   "source": [
    "print(\"original data size : \" + str(train_X.shape))\n",
    "print(\"augmented data size : \" + str(aug_train_X.shape))"
   ]
  },
  {
   "cell_type": "markdown",
   "metadata": {
    "tags": []
   },
   "source": [
    "---"
   ]
  }
 ],
 "metadata": {
  "colab": {
   "collapsed_sections": [],
   "name": "5_3_데이터불균형처리.ipynb",
   "provenance": []
  },
  "hide_input": false,
  "kernelspec": {
   "display_name": "ttest3.8",
   "language": "python",
   "name": "ttest3.8"
  },
  "language_info": {
   "codemirror_mode": {
    "name": "ipython",
    "version": 3
   },
   "file_extension": ".py",
   "mimetype": "text/x-python",
   "name": "python",
   "nbconvert_exporter": "python",
   "pygments_lexer": "ipython3",
   "version": "3.8.13"
  }
 },
 "nbformat": 4,
 "nbformat_minor": 4
}
