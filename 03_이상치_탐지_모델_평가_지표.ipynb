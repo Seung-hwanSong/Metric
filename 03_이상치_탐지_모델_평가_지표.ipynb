{
 "cells": [
  {
   "cell_type": "code",
   "execution_count": null,
   "id": "dac6116b",
   "metadata": {
    "id": "dac6116b"
   },
   "outputs": [],
   "source": [
    "# !pip install IPython\n",
    "from IPython.display import display, HTML, Image"
   ]
  },
  {
   "cell_type": "code",
   "execution_count": null,
   "id": "d38c91fc-87a2-4811-9df2-7a797cdc6716",
   "metadata": {},
   "outputs": [],
   "source": [
    "!git clone https://github.com/Seung-hwanSong/Metric.git #코랩 사용"
   ]
  },
  {
   "cell_type": "markdown",
   "id": "a6772379",
   "metadata": {
    "id": "a6772379"
   },
   "source": [
    "# [모델 평가]\n",
    "## 이상치 탐지 모델 평가 지표"
   ]
  },
  {
   "cell_type": "markdown",
   "id": "09c703c2",
   "metadata": {
    "id": "09c703c2"
   },
   "source": [
    "##### jupyter notebook 단축키\n",
    "\n",
    "- ctrl+enter: 셀 실행   \n",
    "- shift+enter: 셀 실행 및 다음 셀 이동   \n",
    "- alt+enter: 셀 실행, 다음 셀 이동, 새로운 셀 생성\n",
    "- a: 상단에 새로운 셀 만들기\n",
    "- b: 하단에 새로운 셀 만들기\n",
    "- dd: 셀 삭제(x: 셀 삭제)\n",
    "- 함수 ( ) 안에서 shift+tab: arguments description. shift+tab+tab은 길게 볼 수 있도록"
   ]
  },
  {
   "cell_type": "markdown",
   "id": "b731dc12",
   "metadata": {
    "id": "b731dc12"
   },
   "source": [
    "## 1. 모듈 불러오기"
   ]
  },
  {
   "cell_type": "code",
   "execution_count": null,
   "id": "f0e9f787",
   "metadata": {
    "id": "f0e9f787"
   },
   "outputs": [],
   "source": [
    "''' 데이터 전처리 패키지 '''\n",
    "import numpy as np\n",
    "import pandas as pd\n",
    "\n",
    "''' 기계학습 모델 구축 및 평가 패키지 '''\n",
    "from sklearn.linear_model import LinearRegression\n",
    "from sklearn.linear_model import LogisticRegression\n",
    "from sklearn.neighbors import LocalOutlierFactor\n",
    "from sklearn.datasets import load_boston\n",
    "from sklearn.metrics import mean_squared_error, r2_score, mean_absolute_error, f1_score\n",
    "from sklearn.model_selection  import train_test_split\n",
    "from scipy.stats import gmean\n",
    "\n",
    "''' 데이터 시각화 패키지 '''\n",
    "import seaborn as sns\n",
    "import matplotlib.pyplot as plt\n",
    "import matplotlib.font_manager as fm\n",
    "\n",
    "''' 경고 숨기기 '''\n",
    "import warnings\n",
    "warnings.filterwarnings(action = 'ignore')\n",
    "\n",
    "''' 한글 폰트 설정 '''\n",
    "plt.rc('font', family = 'Malgun Gothic')"
   ]
  },
  {
   "cell_type": "markdown",
   "id": "63b2bdfb",
   "metadata": {
    "id": "63b2bdfb"
   },
   "source": [
    "## 2. 데이터 불러오기: Boston Housing Data\n",
    "\n",
    "#### https://archive.ics.uci.edu/ml/datasets.php\n",
    "\n",
    "#### 데이터 구조  \n",
    "- 데이터: 1978년 보스턴 주택 가격  \n",
    "- 관측치 개수: 506개\n",
    "- 변수 개수: 설명변수 13개 / 반응변수 1개\n",
    "\n",
    "#### 설명 변수(원인: 예측값을 설명할 수 있는 변수) -> \"X\"\n",
    "- CRIM: 범죄율  \n",
    "- INDUS: 비소매상업지역 면적 비율  \n",
    "- NOX: 일산화질소 농도  \n",
    "- RM: 주택당 방 수  \n",
    "- LSTAT: 인구 중 하위 계층 비율  \n",
    "- B: 인구 중 흑인 비율  \n",
    "- PTRATIO: 학생/교사 비율  \n",
    "- ZN: 25,000 평방피트를 초과 거주지역 비율  \n",
    "- CHAS: 찰스강의 경계에 위치한 경우는 1, 아니면 0  \n",
    "- AGE: 1940년 이전에 건축된 주택의 비율  \n",
    "- RAD: 방사형 고속도로까지의 거리  \n",
    "- DIS: 직업센터의 거리  \n",
    "- TAX: 재산세율  \n",
    "\n",
    "#### 반응 변수(결과: 예측하고자 하는 값) -> \"Y\"\n",
    "- MEDV: 주택가격"
   ]
  },
  {
   "cell_type": "code",
   "execution_count": null,
   "id": "3c04fb2f",
   "metadata": {
    "colab": {
     "base_uri": "https://localhost:8080/"
    },
    "id": "3c04fb2f",
    "outputId": "e1795385-0772-4fa0-cb4b-19989175d3cc"
   },
   "outputs": [],
   "source": [
    "# 데이터 불러오기\n",
    "boston = load_boston()\n",
    "\n",
    "# 데이터 설명\n",
    "print(boston.DESCR)"
   ]
  },
  {
   "cell_type": "code",
   "execution_count": null,
   "id": "fd78fca3",
   "metadata": {
    "colab": {
     "base_uri": "https://localhost:8080/"
    },
    "id": "fd78fca3",
    "outputId": "7c9c3143-5d2d-4d5d-b834-ca195a4997a3"
   },
   "outputs": [],
   "source": [
    "# 데이터 크기 및 사용 변수\n",
    "print(\"데이터 크기 : \", boston.data.shape)\n",
    "print(\"사용 변수 : \", boston.feature_names)"
   ]
  },
  {
   "cell_type": "markdown",
   "id": "cff080ad",
   "metadata": {
    "id": "cff080ad"
   },
   "source": [
    "## 3. 데이터 전처리\n",
    "\n",
    "$\\mathbf{X}$: 설명변수/입력변수 <br>\n",
    "$\\mathbf{y}$: 반응변수/출력변수\n",
    "\n",
    "- X, Y 데이터 프레임 만들기"
   ]
  },
  {
   "cell_type": "code",
   "execution_count": null,
   "id": "46c46937",
   "metadata": {
    "id": "46c46937"
   },
   "outputs": [],
   "source": [
    "X = pd.DataFrame(boston.data, columns = boston.feature_names)\n",
    "y = pd.DataFrame(boston.target, columns = ['MEDV'])"
   ]
  },
  {
   "cell_type": "code",
   "execution_count": null,
   "id": "13143570",
   "metadata": {
    "colab": {
     "base_uri": "https://localhost:8080/",
     "height": 206
    },
    "id": "13143570",
    "outputId": "a45ecdec-bcfa-4d67-9834-8e286c45fb38"
   },
   "outputs": [],
   "source": [
    "# X 예시 - 상위 5개 샘플 출력\n",
    "X.head()"
   ]
  },
  {
   "cell_type": "code",
   "execution_count": null,
   "id": "863c0aa4",
   "metadata": {
    "colab": {
     "base_uri": "https://localhost:8080/",
     "height": 206
    },
    "id": "863c0aa4",
    "outputId": "a3ad0913-7f66-43e0-ccce-eef07b9ccd84"
   },
   "outputs": [],
   "source": [
    "# Y 예시 - 상위 5개 샘플 출력\n",
    "y.head()"
   ]
  },
  {
   "cell_type": "markdown",
   "id": "20c8eb2f",
   "metadata": {
    "id": "20c8eb2f"
   },
   "source": [
    "- X, Y 데이터 프레임 합치기"
   ]
  },
  {
   "cell_type": "code",
   "execution_count": null,
   "id": "4e66a916",
   "metadata": {
    "colab": {
     "base_uri": "https://localhost:8080/",
     "height": 206
    },
    "id": "4e66a916",
    "outputId": "976b6491-bf33-42e8-c1ce-bd906d80aee3"
   },
   "outputs": [],
   "source": [
    "data = pd.concat([X, y], axis = 1)\n",
    "data.head()"
   ]
  },
  {
   "cell_type": "markdown",
   "id": "5e6b8911",
   "metadata": {
    "id": "5e6b8911"
   },
   "source": [
    "## 4. 탐색적 데이터 분석\n",
    "\n",
    "- boxplot을 통해 각 데이터 별 outlier 확인 "
   ]
  },
  {
   "cell_type": "code",
   "execution_count": null,
   "id": "8f4a87cc",
   "metadata": {
    "colab": {
     "base_uri": "https://localhost:8080/",
     "height": 297
    },
    "id": "8f4a87cc",
    "outputId": "8a2d137e-0f92-468f-dd71-d11edea3b052"
   },
   "outputs": [],
   "source": [
    "sns.boxplot(x = \"variable\", y = \"value\", data = pd.melt(data))"
   ]
  },
  {
   "cell_type": "markdown",
   "id": "d5fae620",
   "metadata": {
    "id": "d5fae620"
   },
   "source": [
    "### 데이터 분포 확인 \n",
    "\n",
    "- describe(): 다양한 통계량을 요약해서 제공하는 함수 \n"
   ]
  },
  {
   "cell_type": "code",
   "execution_count": null,
   "id": "0ae0aff4",
   "metadata": {
    "colab": {
     "base_uri": "https://localhost:8080/",
     "height": 300
    },
    "id": "0ae0aff4",
    "outputId": "6ea8aff8-f517-43b6-c4ed-c508384ba89a"
   },
   "outputs": [],
   "source": [
    "data.describe()"
   ]
  },
  {
   "cell_type": "markdown",
   "id": "97adc217-f0e1-4fa6-94e9-6ec3a4873b80",
   "metadata": {},
   "source": [
    "- 4 분위수 기준으로 모든 변수에 대한 이상치 개수 확인 "
   ]
  },
  {
   "cell_type": "code",
   "execution_count": null,
   "id": "74912410-153e-4d27-9f3b-1c8fcf78a783",
   "metadata": {},
   "outputs": [],
   "source": [
    "Image('/content/Metric/image/intro8.png')"
   ]
  },
  {
   "cell_type": "code",
   "execution_count": null,
   "id": "89a13102",
   "metadata": {
    "colab": {
     "base_uri": "https://localhost:8080/",
     "height": 488
    },
    "id": "89a13102",
    "outputId": "87af6a7a-52bd-4f01-89da-4131a578d656"
   },
   "outputs": [],
   "source": [
    "# 변수 별 outlier 개수, 비율 확인\n",
    "\n",
    "def detect_outliers(df):\n",
    "    cols = list(df)\n",
    "    outliers = pd.DataFrame(columns = ['Feature', 'Number of Outliers'])\n",
    "    for column in cols:\n",
    "        if column in df.select_dtypes(include=np.number).columns:\n",
    "            q1 = df[column].quantile(0.25)\n",
    "            q3 = df[column].quantile(0.75)\n",
    "            iqr = q3 - q1\n",
    "            fence_low = q1 - (1.5*iqr)\n",
    "            fence_high = q3 + (1.5*iqr)\n",
    "            outliers = outliers.append({'Feature':column, 'Number of Outliers':df.loc[(df[column] < fence_low) | (df[column] > fence_high)].shape[0],'Proportion of Outliers':(df.loc[(df[column] < fence_low) | (df[column] > fence_high)].shape[0])/len(df)}, ignore_index=True)\n",
    "    return outliers\n",
    "\n",
    "detect_outliers(data)"
   ]
  },
  {
   "cell_type": "markdown",
   "id": "309c09e8",
   "metadata": {
    "id": "309c09e8"
   },
   "source": [
    "## 5. 모델링\n",
    "\n",
    "- LinearRegression: 선형회귀모형 \n",
    "- LinearRegression(fit_intercept, normalize, copy_X, n_jobs)\n",
    "  - fit_intercept : 모형에 상수항 (절편)이 있는가 없는가를 결정하는 인qk (default : True)\n",
    "  - normalize : 매개변수 무시 여부\n",
    "  - copy_X : X의 복사 여부\n",
    "  - n_jobs : 계산에 사용할 작업 수\n",
    "\n",
    "\n",
    "---\n",
    "- Local Outlier Factor: 이상치 탐지 모델 \n",
    "  - 관측치의 주변 데이터를 이용해 국소적 관점으로 이상치 정도를 파악하는 방법론 \n",
    "\n"
   ]
  },
  {
   "cell_type": "markdown",
   "id": "qY-cfddqzggD",
   "metadata": {
    "id": "qY-cfddqzggD"
   },
   "source": [
    "- 선형회귀모형"
   ]
  },
  {
   "cell_type": "code",
   "execution_count": null,
   "id": "e0996321",
   "metadata": {
    "colab": {
     "base_uri": "https://localhost:8080/"
    },
    "id": "e0996321",
    "outputId": "3cd8652c-9919-43da-c061-f3bf9d43a268"
   },
   "outputs": [],
   "source": [
    "y = data['MEDV']\n",
    "X = data.iloc[:,0:13]\n",
    "\n",
    "X_train, X_test, y_train, y_test = train_test_split(X, y, test_size = 0.3, random_state = 0)\n",
    "\n",
    "print(X_train.shape, X_test.shape, y_train.shape, y_test.shape)"
   ]
  },
  {
   "cell_type": "code",
   "execution_count": null,
   "id": "e612da1e",
   "metadata": {
    "colab": {
     "base_uri": "https://localhost:8080/"
    },
    "id": "e612da1e",
    "outputId": "7b4c3e0f-d2a5-4693-a0f5-648164a20218"
   },
   "outputs": [],
   "source": [
    "# 선형회귀모형 훈련 \n",
    "lm = LinearRegression()\n",
    "lm.fit(X_train, y_train)"
   ]
  },
  {
   "cell_type": "markdown",
   "id": "cRpI_Zby-52f",
   "metadata": {
    "id": "cRpI_Zby-52f"
   },
   "source": [
    "- Local Outlier Factor"
   ]
  },
  {
   "cell_type": "code",
   "execution_count": null,
   "id": "ameXwqBI7FzK",
   "metadata": {
    "colab": {
     "base_uri": "https://localhost:8080/"
    },
    "id": "ameXwqBI7FzK",
    "outputId": "ec5a4a96-2e4c-474d-bb25-467ef8c0cf54"
   },
   "outputs": [],
   "source": [
    "# LOF를 통한 결과를 바탕으로 outlier 제거한 새로운 데이터 생성 \n",
    "lof = LocalOutlierFactor()\n",
    "yhat = lof.fit_predict(X_train) # yhat이 -1일 경우 outlier \n",
    "mask = yhat != -1 \n",
    "X_train_lof, y_train_lof = X_train.iloc[mask, :], y_train.iloc[mask]\n",
    "print(X_train_lof.shape, y_train_lof.shape)"
   ]
  },
  {
   "cell_type": "code",
   "execution_count": null,
   "id": "oKMWIDFA8TXz",
   "metadata": {
    "id": "oKMWIDFA8TXz"
   },
   "outputs": [],
   "source": [
    "lm_lof = LinearRegression()\n",
    "lm_lof.fit(X_train_lof, y_train_lof)\n",
    "pred_lof = lm_lof.predict(X_test)"
   ]
  },
  {
   "cell_type": "markdown",
   "id": "-gL7_WQxzjb5",
   "metadata": {
    "id": "-gL7_WQxzjb5"
   },
   "source": [
    "- 로지스틱회귀모형"
   ]
  },
  {
   "cell_type": "code",
   "execution_count": null,
   "id": "u5epRz6Dxi2Y",
   "metadata": {
    "id": "u5epRz6Dxi2Y"
   },
   "outputs": [],
   "source": [
    "# label 생성\n",
    "data['label'] = np.where(data[\"MEDV\"] > np.mean(y_train), 1, 0)"
   ]
  },
  {
   "cell_type": "code",
   "execution_count": null,
   "id": "SMMXdj3HxdYp",
   "metadata": {
    "colab": {
     "base_uri": "https://localhost:8080/"
    },
    "id": "SMMXdj3HxdYp",
    "outputId": "844e7571-571d-4d7f-e963-19431c91cd6b"
   },
   "outputs": [],
   "source": [
    "y = data['label']\n",
    "X = data.iloc[:,0:13]\n",
    "\n",
    "X_train_logit, X_test_logit, y_train_logit, y_test_logit = train_test_split(X, y, test_size = 0.3, random_state = 0)\n",
    "\n",
    "print(X_train_logit.shape, X_test_logit.shape, y_train_logit.shape, y_test_logit.shape)"
   ]
  },
  {
   "cell_type": "code",
   "execution_count": null,
   "id": "elbRzv8awUKF",
   "metadata": {
    "colab": {
     "base_uri": "https://localhost:8080/"
    },
    "id": "elbRzv8awUKF",
    "outputId": "b06fd7d0-e60b-467d-f120-d664d607220f"
   },
   "outputs": [],
   "source": [
    "# 로지스틱회귀모형 \n",
    "logit = LogisticRegression()\n",
    "logit.fit(X_train_logit, y_train_logit)"
   ]
  },
  {
   "cell_type": "markdown",
   "id": "0d919193",
   "metadata": {
    "id": "0d919193"
   },
   "source": [
    "## 6. 모델 해석\n",
    "\n",
    "- coef (회귀계수): X가 한단위 증가할 때 Y의 변화량\n",
    "- Intercept (절편): 독립변수가 모두 0일때 종속변수 값 "
   ]
  },
  {
   "cell_type": "code",
   "execution_count": null,
   "id": "SD90sDV9rTHX",
   "metadata": {
    "colab": {
     "base_uri": "https://localhost:8080/"
    },
    "id": "SD90sDV9rTHX",
    "outputId": "90dc77ce-042d-4e97-ee9b-6d039dc08b85"
   },
   "outputs": [],
   "source": [
    "# 선형회귀모형 \n",
    "print('labels\\n',X.columns)\n",
    "print(\"=\"*50)\n",
    "print('Coefficients: \\n', lm.coef_)\n",
    "print(\"=\"*50)\n",
    "print('Intercept: \\n', lm.intercept_)"
   ]
  },
  {
   "cell_type": "code",
   "execution_count": null,
   "id": "TUS4ryps_uFO",
   "metadata": {
    "colab": {
     "base_uri": "https://localhost:8080/"
    },
    "id": "TUS4ryps_uFO",
    "outputId": "42a18ff2-79d1-44cc-db51-a97a90922c4b"
   },
   "outputs": [],
   "source": [
    "# 이상치 탐지 선형회귀모형 \n",
    "print('labels\\n',X.columns)\n",
    "print(\"=\"*50)\n",
    "print('Coefficients: \\n', lm_lof.coef_)\n",
    "print(\"=\"*50)\n",
    "print('Intercept: \\n', lm_lof.intercept_)"
   ]
  },
  {
   "cell_type": "markdown",
   "id": "ecb2bcf2",
   "metadata": {
    "id": "ecb2bcf2"
   },
   "source": [
    "## 7. 모델 성능 평가"
   ]
  },
  {
   "cell_type": "code",
   "execution_count": null,
   "id": "Y0EuXxIpsDSy",
   "metadata": {
    "colab": {
     "base_uri": "https://localhost:8080/",
     "height": 206
    },
    "id": "Y0EuXxIpsDSy",
    "outputId": "3025eb9d-4b0f-4487-ce3c-caac1463f75f"
   },
   "outputs": [],
   "source": [
    "data['MEDV_REG'] = lm.predict(data.iloc[:,0:13])\n",
    "data[['MEDV', 'MEDV_REG']].head()"
   ]
  },
  {
   "cell_type": "code",
   "execution_count": null,
   "id": "eEd6otAVsV4g",
   "metadata": {
    "colab": {
     "base_uri": "https://localhost:8080/",
     "height": 313
    },
    "id": "eEd6otAVsV4g",
    "outputId": "7494aec4-f249-49a0-fa2c-dd24b4c3fbc4"
   },
   "outputs": [],
   "source": [
    "# 실제값과 예측값 분포 시각화 \n",
    "plt.scatter(data['MEDV'], data['MEDV_REG'], s = 5 )\n",
    "plt.xlabel(\"Prices\")\n",
    "plt.ylabel(\"Predicted Prices\")\n",
    "plt.title(\"Real vs Predicted Housing Prices\")"
   ]
  },
  {
   "cell_type": "code",
   "execution_count": null,
   "id": "574e3c1f",
   "metadata": {
    "colab": {
     "base_uri": "https://localhost:8080/",
     "height": 299
    },
    "id": "574e3c1f",
    "outputId": "8efb22b4-99d8-42a2-8c55-c8299361630e"
   },
   "outputs": [],
   "source": [
    "# 0을 기준으로 잔차 시각화 \n",
    "plt.scatter(lm.predict(X_train), lm.predict(X_train) - y_train, c = 'b', s = 30, alpha = 0.4)\n",
    "plt.scatter(lm.predict(X_test), lm.predict(X_test) - y_test, c ='g', s = 30 )\n",
    "\n",
    "plt.hlines(y = 0, xmin = -5, xmax = 55)\n",
    "plt.title(\"Residuals\")\n",
    "plt.ylabel(\"Residuals\")"
   ]
  },
  {
   "cell_type": "markdown",
   "id": "ea046d62",
   "metadata": {
    "id": "ea046d62"
   },
   "source": [
    "### 다양한 회귀 모델 성능 평가 지표들 (예측 모델, 분류 모델)"
   ]
  },
  {
   "cell_type": "markdown",
   "id": "17d3f4bd",
   "metadata": {
    "id": "17d3f4bd"
   },
   "source": [
    "#### Mean Squared Error (평균 제곱 오차): $\\frac{1}{n} \\sum_{i=1}^{n} (y_{i} - \\hat{y}_{i})^{2}$\n",
    "\n",
    "####  Mean Absolute Error (평균 절대 오차): $\\frac{1}{n} \\sum_{i=1}^{n} |\\hat{y}_{i}- y_{i}|$\n",
    "\n",
    "####  Geometric Mean (기하 평균): $\\left(\\prod _{i=1}^{n}x_{i}\\right)^{\\frac {1}{n}}={\\sqrt[{n}]{x_{1}x_{2}\\cdots x_{n}}}$\n",
    "\n",
    "####  F1 socre: $\\frac{2*Precision*Recall}{Precision+Recall} = \\frac{2*TP}{2*TP+FP+FN}$"
   ]
  },
  {
   "cell_type": "markdown",
   "id": "v7QgxevlANzO",
   "metadata": {
    "id": "v7QgxevlANzO"
   },
   "source": [
    "### **선형회귀모형 평가** \n",
    "\n"
   ]
  },
  {
   "cell_type": "code",
   "execution_count": null,
   "id": "Bqo-1bu4vNR6",
   "metadata": {
    "id": "Bqo-1bu4vNR6"
   },
   "outputs": [],
   "source": [
    "true = data['MEDV']\n",
    "pred = data['MEDV_REG']"
   ]
  },
  {
   "cell_type": "code",
   "execution_count": null,
   "id": "RXHm1ojnw0SV",
   "metadata": {
    "id": "RXHm1ojnw0SV"
   },
   "outputs": [],
   "source": [
    "# 예측값과 실제값 차이 계산 \n",
    "error = true - pred"
   ]
  },
  {
   "cell_type": "code",
   "execution_count": null,
   "id": "AU4yP4-c1XfH",
   "metadata": {
    "id": "AU4yP4-c1XfH"
   },
   "outputs": [],
   "source": [
    "# Gmean 함수 정의 \n",
    "def geo_mean(iterable):\n",
    "    a = np.array(iterable)\n",
    "    return a.prod()**(1.0/len(a))"
   ]
  },
  {
   "cell_type": "code",
   "execution_count": null,
   "id": "9c5210ad",
   "metadata": {
    "colab": {
     "base_uri": "https://localhost:8080/"
    },
    "id": "9c5210ad",
    "outputId": "f98a3923-fa98-4b4b-a726-1763ce962b83"
   },
   "outputs": [],
   "source": [
    "# mse, mae, gmean 계산 \n",
    "MSE_value = mean_squared_error(true, pred)\n",
    "MAE_value = mean_absolute_error(true, pred)\n",
    "GMEAN_value = geo_mean(error)\n",
    "\n",
    "print(\"MSE : {:.3f}\".format(MSE_value))\n",
    "print(\"MAE : {:.3f}\".format(MAE_value))\n",
    "print(\"GMean : {:.3f}\".format(GMEAN_value))"
   ]
  },
  {
   "cell_type": "markdown",
   "id": "9CdriVO-B-NL",
   "metadata": {
    "id": "9CdriVO-B-NL"
   },
   "source": [
    "### **이상치 탐지 선형회귀모형 평가** "
   ]
  },
  {
   "cell_type": "code",
   "execution_count": null,
   "id": "cn47pbieCRyB",
   "metadata": {
    "id": "cn47pbieCRyB"
   },
   "outputs": [],
   "source": [
    "data['MEDV_REG_LOF'] = lm_lof.predict(data.iloc[:,0:13])"
   ]
  },
  {
   "cell_type": "code",
   "execution_count": null,
   "id": "mXA3b8oXCEIi",
   "metadata": {
    "id": "mXA3b8oXCEIi"
   },
   "outputs": [],
   "source": [
    "true_lof = data['MEDV']\n",
    "pred_lof = data['MEDV_REG_LOF']"
   ]
  },
  {
   "cell_type": "code",
   "execution_count": null,
   "id": "RKaZ_Q5qCFKE",
   "metadata": {
    "id": "RKaZ_Q5qCFKE"
   },
   "outputs": [],
   "source": [
    "# 예측값과 실제값 차이 계산 \n",
    "error = true_lof - pred_lof"
   ]
  },
  {
   "cell_type": "code",
   "execution_count": null,
   "id": "gvpw6D_gCDJm",
   "metadata": {
    "colab": {
     "base_uri": "https://localhost:8080/"
    },
    "id": "gvpw6D_gCDJm",
    "outputId": "c7c4db42-bacc-43ff-854c-f4c984613734"
   },
   "outputs": [],
   "source": [
    "# mse, mae, gmean 계산 \n",
    "MSE_value = mean_squared_error(true_lof, pred_lof)\n",
    "MAE_value = mean_absolute_error(true_lof, pred_lof)\n",
    "GMEAN_value = geo_mean(error)\n",
    "\n",
    "print(\"MSE : {:.3f}\".format(MSE_value))\n",
    "print(\"MAE : {:.3f}\".format(MAE_value))\n",
    "print(\"GMean : {:.3f}\".format(GMEAN_value))"
   ]
  },
  {
   "cell_type": "markdown",
   "id": "SUzOBQHOChhS",
   "metadata": {
    "id": "SUzOBQHOChhS"
   },
   "source": [
    "### **로지스틱 회귀모형 평가** "
   ]
  },
  {
   "cell_type": "code",
   "execution_count": null,
   "id": "bI82OkpezyT9",
   "metadata": {
    "id": "bI82OkpezyT9"
   },
   "outputs": [],
   "source": [
    "# F1 score 계산\n",
    "\n",
    "data['label_REG'] = logit.predict(data.iloc[:,0:13])\n",
    "\n",
    "y_true = data['label']\n",
    "y_pred = data['label_REG']"
   ]
  },
  {
   "cell_type": "code",
   "execution_count": null,
   "id": "5qdpdg1e0lMi",
   "metadata": {
    "colab": {
     "base_uri": "https://localhost:8080/"
    },
    "id": "5qdpdg1e0lMi",
    "outputId": "fb4b9f9a-e1ad-4229-956e-b59e1c5fc48f"
   },
   "outputs": [],
   "source": [
    "F1_value = f1_score(y_true, y_pred)\n",
    "print(\"F1 score : {:.3f}\".format(F1_value))"
   ]
  },
  {
   "cell_type": "markdown",
   "id": "c889d0b4-d347-44dd-a4da-9a8009197d47",
   "metadata": {},
   "source": [
    "---"
   ]
  }
 ],
 "metadata": {
  "colab": {
   "collapsed_sections": [],
   "name": "03_이상치 탐지 모델 평가 지표.ipynb",
   "provenance": []
  },
  "kernelspec": {
   "display_name": "ttest3.8",
   "language": "python",
   "name": "ttest3.8"
  },
  "language_info": {
   "codemirror_mode": {
    "name": "ipython",
    "version": 3
   },
   "file_extension": ".py",
   "mimetype": "text/x-python",
   "name": "python",
   "nbconvert_exporter": "python",
   "pygments_lexer": "ipython3",
   "version": "3.8.13"
  }
 },
 "nbformat": 4,
 "nbformat_minor": 5
}
